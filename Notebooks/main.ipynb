{
  "nbformat": 4,
  "nbformat_minor": 0,
  "metadata": {
    "colab": {
      "provenance": [],
      "gpuType": "T4"
    },
    "kernelspec": {
      "name": "python3",
      "display_name": "Python 3"
    },
    "language_info": {
      "name": "python"
    },
    "accelerator": "GPU"
  },
  "cells": [
    {
      "cell_type": "code",
      "execution_count": 1,
      "metadata": {
        "colab": {
          "base_uri": "https://localhost:8080/"
        },
        "id": "tk33Wlep8oZo",
        "outputId": "554add06-916b-4b1e-9da1-918e508b2263"
      },
      "outputs": [
        {
          "output_type": "stream",
          "name": "stdout",
          "text": [
            "Collecting cohere\n",
            "  Downloading cohere-4.50-py3-none-any.whl (52 kB)\n",
            "\u001b[2K     \u001b[90m━━━━━━━━━━━━━━━━━━━━━━━━━━━━━━━━━━━━━━━━\u001b[0m \u001b[32m52.0/52.0 kB\u001b[0m \u001b[31m950.7 kB/s\u001b[0m eta \u001b[36m0:00:00\u001b[0m\n",
            "\u001b[?25hCollecting pinecone-client\n",
            "  Downloading pinecone_client-3.1.0-py3-none-any.whl (210 kB)\n",
            "\u001b[2K     \u001b[90m━━━━━━━━━━━━━━━━━━━━━━━━━━━━━━━━━━━━━━━━\u001b[0m \u001b[32m211.0/211.0 kB\u001b[0m \u001b[31m3.4 MB/s\u001b[0m eta \u001b[36m0:00:00\u001b[0m\n",
            "\u001b[?25hRequirement already satisfied: aiohttp<4.0,>=3.0 in /usr/local/lib/python3.10/dist-packages (from cohere) (3.9.3)\n",
            "Collecting backoff<3.0,>=2.0 (from cohere)\n",
            "  Downloading backoff-2.2.1-py3-none-any.whl (15 kB)\n",
            "Collecting fastavro<2.0,>=1.8 (from cohere)\n",
            "  Downloading fastavro-1.9.4-cp310-cp310-manylinux_2_17_x86_64.manylinux2014_x86_64.whl (3.1 MB)\n",
            "\u001b[2K     \u001b[90m━━━━━━━━━━━━━━━━━━━━━━━━━━━━━━━━━━━━━━━━\u001b[0m \u001b[32m3.1/3.1 MB\u001b[0m \u001b[31m20.1 MB/s\u001b[0m eta \u001b[36m0:00:00\u001b[0m\n",
            "\u001b[?25hCollecting importlib_metadata<7.0,>=6.0 (from cohere)\n",
            "  Downloading importlib_metadata-6.11.0-py3-none-any.whl (23 kB)\n",
            "Requirement already satisfied: requests<3.0.0,>=2.25.0 in /usr/local/lib/python3.10/dist-packages (from cohere) (2.31.0)\n",
            "Requirement already satisfied: urllib3<3,>=1.26 in /usr/local/lib/python3.10/dist-packages (from cohere) (2.0.7)\n",
            "Requirement already satisfied: certifi>=2019.11.17 in /usr/local/lib/python3.10/dist-packages (from pinecone-client) (2024.2.2)\n",
            "Requirement already satisfied: tqdm>=4.64.1 in /usr/local/lib/python3.10/dist-packages (from pinecone-client) (4.66.2)\n",
            "Requirement already satisfied: typing-extensions>=3.7.4 in /usr/local/lib/python3.10/dist-packages (from pinecone-client) (4.9.0)\n",
            "Requirement already satisfied: aiosignal>=1.1.2 in /usr/local/lib/python3.10/dist-packages (from aiohttp<4.0,>=3.0->cohere) (1.3.1)\n",
            "Requirement already satisfied: attrs>=17.3.0 in /usr/local/lib/python3.10/dist-packages (from aiohttp<4.0,>=3.0->cohere) (23.2.0)\n",
            "Requirement already satisfied: frozenlist>=1.1.1 in /usr/local/lib/python3.10/dist-packages (from aiohttp<4.0,>=3.0->cohere) (1.4.1)\n",
            "Requirement already satisfied: multidict<7.0,>=4.5 in /usr/local/lib/python3.10/dist-packages (from aiohttp<4.0,>=3.0->cohere) (6.0.5)\n",
            "Requirement already satisfied: yarl<2.0,>=1.0 in /usr/local/lib/python3.10/dist-packages (from aiohttp<4.0,>=3.0->cohere) (1.9.4)\n",
            "Requirement already satisfied: async-timeout<5.0,>=4.0 in /usr/local/lib/python3.10/dist-packages (from aiohttp<4.0,>=3.0->cohere) (4.0.3)\n",
            "Requirement already satisfied: zipp>=0.5 in /usr/local/lib/python3.10/dist-packages (from importlib_metadata<7.0,>=6.0->cohere) (3.17.0)\n",
            "Requirement already satisfied: charset-normalizer<4,>=2 in /usr/local/lib/python3.10/dist-packages (from requests<3.0.0,>=2.25.0->cohere) (3.3.2)\n",
            "Requirement already satisfied: idna<4,>=2.5 in /usr/local/lib/python3.10/dist-packages (from requests<3.0.0,>=2.25.0->cohere) (3.6)\n",
            "Installing collected packages: pinecone-client, importlib_metadata, fastavro, backoff, cohere\n",
            "  Attempting uninstall: importlib_metadata\n",
            "    Found existing installation: importlib-metadata 7.0.1\n",
            "    Uninstalling importlib-metadata-7.0.1:\n",
            "      Successfully uninstalled importlib-metadata-7.0.1\n",
            "Successfully installed backoff-2.2.1 cohere-4.50 fastavro-1.9.4 importlib_metadata-6.11.0 pinecone-client-3.1.0\n"
          ]
        }
      ],
      "source": [
        "! pip install cohere pinecone-client"
      ]
    },
    {
      "cell_type": "code",
      "source": [
        "cohere_api_key = ''\n",
        "pinecone_api_key = ''"
      ],
      "metadata": {
        "id": "bHXHczM49Vwo"
      },
      "execution_count": 54,
      "outputs": []
    },
    {
      "cell_type": "code",
      "source": [
        "import cohere\n",
        "co = cohere.Client(cohere_api_key)"
      ],
      "metadata": {
        "id": "D3JKaMHH_C9a"
      },
      "execution_count": 3,
      "outputs": []
    },
    {
      "cell_type": "code",
      "source": [
        "from pinecone import Pinecone\n",
        "\n",
        "pc = Pinecone(pinecone_api_key) # add your pinecone API key here\n",
        "\n",
        "index_name = 'quranic'\n",
        "\n",
        "# if the index does not exist, we create it\n",
        "if index_name not in pc.list_indexes().names():\n",
        "    pc.create_index(\n",
        "        index_name,\n",
        "        dimension=shape[1],\n",
        "        metric='cosine'\n",
        "    )\n",
        "\n",
        "# connect to index\n",
        "index = pc.Index(index_name)"
      ],
      "metadata": {
        "id": "N2W6eePW-uko"
      },
      "execution_count": 4,
      "outputs": []
    },
    {
      "cell_type": "code",
      "source": [
        "limit = 1600\n",
        "\n",
        "def retrieve(query):\n",
        "    xq = co.embed(\n",
        "        texts=[query],\n",
        "        model='multilingual-22-12',\n",
        "        truncate='NONE'\n",
        "    ).embeddings\n",
        "    # search pinecone index for context passage with the answer\n",
        "    xc = index.query(vector=xq, top_k=3, include_metadata=True)\n",
        "\n",
        "    # Extract relevant information from the matches\n",
        "    surahs = [str(x['metadata']['Surah']) for x in xc['matches']]\n",
        "    ayahs = [str(x['metadata']['Ayat']) for x in xc['matches']]\n",
        "    arabics = [str(x['metadata']['Arabic']) for x in xc['matches']]\n",
        "    tafaseers = [str(x['metadata']['Tafaseer1']) for x in xc['matches']]\n",
        "\n",
        "    # Combine the information into formatted contexts\n",
        "    contexts = [\n",
        "        f\"Surah: {surah}\\n Ayah: {ayah}\\n Arabic: {arabic}\\n\"\n",
        "        for surah, ayah, arabic in zip(surahs, ayahs, arabics)\n",
        "    ]\n",
        "\n",
        "    # Build the prompt with the retrieved contexts included\n",
        "    prompt_start = (\n",
        "        f\"Answer the Query based on the contexts, if it's not in the contexts say 'I don't know the answer'. \\n\\n\"\n",
        "        f\"Context:\\n\"\n",
        "    )\n",
        "    prompt_end = (\n",
        "        f\"\\n\\nQuery: {query}\\nAnswer in the language of Query, if Query is in English Answer in English. Please provide reference Quran verses.\"\n",
        "    )\n",
        "\n",
        "    # Append contexts until hitting the limit\n",
        "    for i in range(1, len(contexts)):\n",
        "        if len(\"\".join(contexts[:i])) >= limit:\n",
        "            prompt = (\n",
        "                prompt_start +\n",
        "                \"\".join(contexts[:i-1]) +\n",
        "                prompt_end\n",
        "            )\n",
        "            break\n",
        "        elif i == len(contexts)-1:\n",
        "            prompt = (\n",
        "                prompt_start +\n",
        "                \"\".join(contexts) +\n",
        "                prompt_end\n",
        "            )\n",
        "    return prompt\n",
        "\n",
        "# Example usage with a query in a different language (Spanish)\n",
        "query_new = \"¿Cuál es el significado de la vida?\"\n",
        "prompt_new = retrieve(query_new)\n",
        "print(prompt_new)"
      ],
      "metadata": {
        "id": "lgY_7txm_QZM",
        "colab": {
          "base_uri": "https://localhost:8080/"
        },
        "outputId": "23e487b4-3b8f-4fb0-8765-7c4251c0db19"
      },
      "execution_count": 55,
      "outputs": [
        {
          "output_type": "stream",
          "name": "stdout",
          "text": [
            "Answer the Query based on the contexts, if it's not in the contexts say 'I don't know the answer'. \n",
            "\n",
            "Context:\n",
            "Surah: 29.0\n",
            " Ayah: 64.0\n",
            " Arabic: وَمَا هَـٰذِهِ ٱلْحَيَاةُ ٱلدُّنْيَآ إِلاَّ لَهْوٌ وَلَعِبٌ وَإِنَّ ٱلدَّارَ ٱلآخِرَةَ لَهِيَ ٱلْحَيَوَانُ لَوْ كَانُواْ يَعْلَمُونَ\n",
            "Surah: 40.0\n",
            " Ayah: 39.0\n",
            " Arabic: يٰقَوْمِ إِنَّمَا هَـٰذِهِ ٱلْحَيَاةُ ٱلدُّنْيَا مَتَاعٌ وَإِنَّ ٱلآخِرَةَ هِيَ دَارُ ٱلْقَـرَارِ\n",
            "Surah: 79.0\n",
            " Ayah: 38.0\n",
            " Arabic: وَآثَرَ ٱلْحَيَاةَ ٱلدُّنْيَا\n",
            "\n",
            "\n",
            "Query: ¿Cuál es el significado de la vida?\n",
            "Answer in the language of Query, if Query is in English Answer in English. Please provide reference Quran verses.\n"
          ]
        }
      ]
    },
    {
      "cell_type": "code",
      "source": [
        "def complete(prompt):\n",
        "  response = co.generate(\n",
        "                          model='c4ai-aya',\n",
        "                          prompt=prompt,\n",
        "                          max_tokens=600,\n",
        "                          temperature=0.2,\n",
        "                          k=0,\n",
        "                          stop_sequences=['\\n\\n'],\n",
        "                          return_likelihoods='NONE'\n",
        "                        )\n",
        "  return response.generations[0].text.strip()"
      ],
      "metadata": {
        "id": "06EspdA9aN8G"
      },
      "execution_count": 56,
      "outputs": []
    },
    {
      "cell_type": "code",
      "source": [
        "complete(prompt_new)"
      ],
      "metadata": {
        "colab": {
          "base_uri": "https://localhost:8080/",
          "height": 54
        },
        "id": "o8UJ7JaofPk7",
        "outputId": "2c61541f-2fd2-4109-98dc-48ff625461c3"
      },
      "execution_count": 57,
      "outputs": [
        {
          "output_type": "execute_result",
          "data": {
            "text/plain": [
              "'The life of this world is but a play and a game, and the hereafter is the real life. This is stated in the Quran, \"And this life of the world is naught but a vain thing and a play, and the hereafter is better for those who fear Allah.\" (Quran 40:39)'"
            ],
            "application/vnd.google.colaboratory.intrinsic+json": {
              "type": "string"
            }
          },
          "metadata": {},
          "execution_count": 57
        }
      ]
    }
  ]
}