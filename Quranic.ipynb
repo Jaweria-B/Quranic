{
  "cells": [
    {
      "cell_type": "markdown",
      "metadata": {
        "id": "view-in-github"
      },
      "source": [
        "<a href=\"https://colab.research.google.com/drive/1l303DcxP66J8i_mNxSKRPirU2HXXq5OB?usp=sharing\" target=\"_parent\"><img src=\"https://colab.research.google.com/assets/colab-badge.svg\" alt=\"Open In Colab\"/></a>"
      ]
    },
    {
      "cell_type": "markdown",
      "metadata": {
        "id": "5WNncDXelfhy"
      },
      "source": [
        "# Multilingual Search with Cohere & Pinecone"
      ]
    },
    {
      "cell_type": "code",
      "execution_count": 3,
      "metadata": {
        "id": "sDhfWxSaEOpS",
        "colab": {
          "base_uri": "https://localhost:8080/"
        },
        "outputId": "25da825e-7fac-4995-f9c3-4a4670d1f7a9"
      },
      "outputs": [
        {
          "output_type": "stream",
          "name": "stdout",
          "text": [
            "Collecting cohere\n",
            "  Downloading cohere-4.50-py3-none-any.whl (52 kB)\n",
            "\u001b[?25l     \u001b[90m━━━━━━━━━━━━━━━━━━━━━━━━━━━━━━━━━━━━━━━━\u001b[0m \u001b[32m0.0/52.0 kB\u001b[0m \u001b[31m?\u001b[0m eta \u001b[36m-:--:--\u001b[0m\r\u001b[2K     \u001b[90m━━━━━━━━━━━━━━━━━━━━━━━━━━━━━━━━━━━━━━━━\u001b[0m \u001b[32m52.0/52.0 kB\u001b[0m \u001b[31m1.9 MB/s\u001b[0m eta \u001b[36m0:00:00\u001b[0m\n",
            "\u001b[?25hCollecting annoy\n",
            "  Downloading annoy-1.17.3.tar.gz (647 kB)\n",
            "\u001b[2K     \u001b[90m━━━━━━━━━━━━━━━━━━━━━━━━━━━━━━━━━━━━━━━━\u001b[0m \u001b[32m647.5/647.5 kB\u001b[0m \u001b[31m21.9 MB/s\u001b[0m eta \u001b[36m0:00:00\u001b[0m\n",
            "\u001b[?25h  Preparing metadata (setup.py) ... \u001b[?25l\u001b[?25hdone\n",
            "Collecting pinecone-client\n",
            "  Downloading pinecone_client-3.1.0-py3-none-any.whl (210 kB)\n",
            "\u001b[2K     \u001b[90m━━━━━━━━━━━━━━━━━━━━━━━━━━━━━━━━━━━━━━━━\u001b[0m \u001b[32m211.0/211.0 kB\u001b[0m \u001b[31m23.6 MB/s\u001b[0m eta \u001b[36m0:00:00\u001b[0m\n",
            "\u001b[?25hCollecting replicate\n",
            "  Downloading replicate-0.24.0-py3-none-any.whl (37 kB)\n",
            "Requirement already satisfied: aiohttp<4.0,>=3.0 in /usr/local/lib/python3.10/dist-packages (from cohere) (3.9.3)\n",
            "Collecting backoff<3.0,>=2.0 (from cohere)\n",
            "  Downloading backoff-2.2.1-py3-none-any.whl (15 kB)\n",
            "Collecting fastavro<2.0,>=1.8 (from cohere)\n",
            "  Downloading fastavro-1.9.4-cp310-cp310-manylinux_2_17_x86_64.manylinux2014_x86_64.whl (3.1 MB)\n",
            "\u001b[2K     \u001b[90m━━━━━━━━━━━━━━━━━━━━━━━━━━━━━━━━━━━━━━━━\u001b[0m \u001b[32m3.1/3.1 MB\u001b[0m \u001b[31m52.2 MB/s\u001b[0m eta \u001b[36m0:00:00\u001b[0m\n",
            "\u001b[?25hCollecting importlib_metadata<7.0,>=6.0 (from cohere)\n",
            "  Downloading importlib_metadata-6.11.0-py3-none-any.whl (23 kB)\n",
            "Requirement already satisfied: requests<3.0.0,>=2.25.0 in /usr/local/lib/python3.10/dist-packages (from cohere) (2.31.0)\n",
            "Requirement already satisfied: urllib3<3,>=1.26 in /usr/local/lib/python3.10/dist-packages (from cohere) (2.0.7)\n",
            "Requirement already satisfied: certifi>=2019.11.17 in /usr/local/lib/python3.10/dist-packages (from pinecone-client) (2024.2.2)\n",
            "Requirement already satisfied: tqdm>=4.64.1 in /usr/local/lib/python3.10/dist-packages (from pinecone-client) (4.66.2)\n",
            "Requirement already satisfied: typing-extensions>=3.7.4 in /usr/local/lib/python3.10/dist-packages (from pinecone-client) (4.9.0)\n",
            "Collecting httpx<1,>=0.21.0 (from replicate)\n",
            "  Downloading httpx-0.27.0-py3-none-any.whl (75 kB)\n",
            "\u001b[2K     \u001b[90m━━━━━━━━━━━━━━━━━━━━━━━━━━━━━━━━━━━━━━━━\u001b[0m \u001b[32m75.6/75.6 kB\u001b[0m \u001b[31m10.4 MB/s\u001b[0m eta \u001b[36m0:00:00\u001b[0m\n",
            "\u001b[?25hRequirement already satisfied: packaging in /usr/local/lib/python3.10/dist-packages (from replicate) (23.2)\n",
            "Requirement already satisfied: pydantic>1 in /usr/local/lib/python3.10/dist-packages (from replicate) (2.6.1)\n",
            "Requirement already satisfied: aiosignal>=1.1.2 in /usr/local/lib/python3.10/dist-packages (from aiohttp<4.0,>=3.0->cohere) (1.3.1)\n",
            "Requirement already satisfied: attrs>=17.3.0 in /usr/local/lib/python3.10/dist-packages (from aiohttp<4.0,>=3.0->cohere) (23.2.0)\n",
            "Requirement already satisfied: frozenlist>=1.1.1 in /usr/local/lib/python3.10/dist-packages (from aiohttp<4.0,>=3.0->cohere) (1.4.1)\n",
            "Requirement already satisfied: multidict<7.0,>=4.5 in /usr/local/lib/python3.10/dist-packages (from aiohttp<4.0,>=3.0->cohere) (6.0.5)\n",
            "Requirement already satisfied: yarl<2.0,>=1.0 in /usr/local/lib/python3.10/dist-packages (from aiohttp<4.0,>=3.0->cohere) (1.9.4)\n",
            "Requirement already satisfied: async-timeout<5.0,>=4.0 in /usr/local/lib/python3.10/dist-packages (from aiohttp<4.0,>=3.0->cohere) (4.0.3)\n",
            "Requirement already satisfied: anyio in /usr/local/lib/python3.10/dist-packages (from httpx<1,>=0.21.0->replicate) (3.7.1)\n",
            "Collecting httpcore==1.* (from httpx<1,>=0.21.0->replicate)\n",
            "  Downloading httpcore-1.0.4-py3-none-any.whl (77 kB)\n",
            "\u001b[2K     \u001b[90m━━━━━━━━━━━━━━━━━━━━━━━━━━━━━━━━━━━━━━━━\u001b[0m \u001b[32m77.8/77.8 kB\u001b[0m \u001b[31m10.1 MB/s\u001b[0m eta \u001b[36m0:00:00\u001b[0m\n",
            "\u001b[?25hRequirement already satisfied: idna in /usr/local/lib/python3.10/dist-packages (from httpx<1,>=0.21.0->replicate) (3.6)\n",
            "Requirement already satisfied: sniffio in /usr/local/lib/python3.10/dist-packages (from httpx<1,>=0.21.0->replicate) (1.3.0)\n",
            "Collecting h11<0.15,>=0.13 (from httpcore==1.*->httpx<1,>=0.21.0->replicate)\n",
            "  Downloading h11-0.14.0-py3-none-any.whl (58 kB)\n",
            "\u001b[2K     \u001b[90m━━━━━━━━━━━━━━━━━━━━━━━━━━━━━━━━━━━━━━━━\u001b[0m \u001b[32m58.3/58.3 kB\u001b[0m \u001b[31m6.0 MB/s\u001b[0m eta \u001b[36m0:00:00\u001b[0m\n",
            "\u001b[?25hRequirement already satisfied: zipp>=0.5 in /usr/local/lib/python3.10/dist-packages (from importlib_metadata<7.0,>=6.0->cohere) (3.17.0)\n",
            "Requirement already satisfied: annotated-types>=0.4.0 in /usr/local/lib/python3.10/dist-packages (from pydantic>1->replicate) (0.6.0)\n",
            "Requirement already satisfied: pydantic-core==2.16.2 in /usr/local/lib/python3.10/dist-packages (from pydantic>1->replicate) (2.16.2)\n",
            "Requirement already satisfied: charset-normalizer<4,>=2 in /usr/local/lib/python3.10/dist-packages (from requests<3.0.0,>=2.25.0->cohere) (3.3.2)\n",
            "Requirement already satisfied: exceptiongroup in /usr/local/lib/python3.10/dist-packages (from anyio->httpx<1,>=0.21.0->replicate) (1.2.0)\n",
            "Building wheels for collected packages: annoy\n",
            "  Building wheel for annoy (setup.py) ... \u001b[?25l\u001b[?25hdone\n",
            "  Created wheel for annoy: filename=annoy-1.17.3-cp310-cp310-linux_x86_64.whl size=552453 sha256=7d8bf551667a54c2f5dd0e336443d5db9fcf24d7a5e164b4144dbbfd4a919fd2\n",
            "  Stored in directory: /root/.cache/pip/wheels/64/8a/da/f714bcf46c5efdcfcac0559e63370c21abe961c48e3992465a\n",
            "Successfully built annoy\n",
            "Installing collected packages: annoy, pinecone-client, importlib_metadata, h11, fastavro, backoff, httpcore, httpx, cohere, replicate\n",
            "  Attempting uninstall: importlib_metadata\n",
            "    Found existing installation: importlib-metadata 7.0.1\n",
            "    Uninstalling importlib-metadata-7.0.1:\n",
            "      Successfully uninstalled importlib-metadata-7.0.1\n",
            "Successfully installed annoy-1.17.3 backoff-2.2.1 cohere-4.50 fastavro-1.9.4 h11-0.14.0 httpcore-1.0.4 httpx-0.27.0 importlib_metadata-6.11.0 pinecone-client-3.1.0 replicate-0.24.0\n"
          ]
        }
      ],
      "source": [
        "! pip install cohere annoy pinecone-client"
      ]
    },
    {
      "cell_type": "code",
      "execution_count": 4,
      "metadata": {
        "id": "LDkRgKDwEWWy"
      },
      "outputs": [],
      "source": [
        "import cohere\n",
        "import os\n",
        "import random\n",
        "import pandas as pd\n",
        "from annoy import AnnoyIndex\n",
        "import numpy as np"
      ]
    },
    {
      "cell_type": "code",
      "execution_count": 5,
      "metadata": {
        "id": "w6oeGFwpZTKT"
      },
      "outputs": [],
      "source": [
        "api_key = \"\" # add your cohere API key here\n",
        "co = cohere.Client(api_key)"
      ]
    },
    {
      "cell_type": "markdown",
      "metadata": {
        "id": "oHUJHp6dZxG2"
      },
      "source": [
        "# Quranic: Given a question, find the answer from the Quran."
      ]
    },
    {
      "cell_type": "markdown",
      "metadata": {
        "id": "PVTkZXLsHiVs"
      },
      "source": [
        "### Import a list of documents"
      ]
    },
    {
      "cell_type": "code",
      "execution_count": 6,
      "metadata": {
        "colab": {
          "base_uri": "https://localhost:8080/"
        },
        "id": "WN-sQquOb4VQ",
        "outputId": "7a0ed330-8dab-4019-d781-29a8689f6a6e"
      },
      "outputs": [
        {
          "output_type": "stream",
          "name": "stdout",
          "text": [
            "Mounted at /content/gdrive\n"
          ]
        }
      ],
      "source": [
        "from google.colab import drive\n",
        "drive.mount('/content/gdrive')"
      ]
    },
    {
      "cell_type": "code",
      "source": [
        "raw_df = pd.read_csv(\"/content/gdrive/MyDrive/data/quran.csv\", index_col=0)\n",
        "print(raw_df.shape)\n",
        "hq_df = raw_df\n",
        "hq_df.head()"
      ],
      "metadata": {
        "colab": {
          "base_uri": "https://localhost:8080/",
          "height": 429
        },
        "id": "s2QPkzc9vxiK",
        "outputId": "d166323c-8a99-4ec5-880a-4ec7251f6abc"
      },
      "execution_count": 7,
      "outputs": [
        {
          "output_type": "stream",
          "name": "stdout",
          "text": [
            "(6236, 8)\n"
          ]
        },
        {
          "output_type": "execute_result",
          "data": {
            "text/plain": [
              "             Surah  Ayat                                    Arabic  \\\n",
              "Name                                                                 \n",
              "The Opening      1     1        بِسمِ ٱلله الرَّحْمٰنِ الرَّحِيـمِ   \n",
              "The Opening      1     2      ٱلْحَمْدُ للَّهِ رَبِّ ٱلْعَالَمِينَ   \n",
              "The Opening      1     3                   ٱلرَّحْمـٰنِ ٱلرَّحِيمِ   \n",
              "The Opening      1     4                  مَـٰلِكِ يَوْمِ ٱلدِّينِ   \n",
              "The Opening      1     5  إِيَّاكَ نَعْبُدُ وَإِيَّاكَ نَسْتَعِينُ   \n",
              "\n",
              "                                                  Translation1  \\\n",
              "Name                                                             \n",
              "The Opening  All praise be to Allah alone, the Sustainer of...   \n",
              "The Opening                 Most Compassionate, Ever-Merciful,   \n",
              "The Opening                     Master of the Day of Judgment.   \n",
              "The Opening  (O Allah!) You alone do we worship and to You ...   \n",
              "The Opening                         Show us the straight path,   \n",
              "\n",
              "                                                  Translation2  \\\n",
              "Name                                                             \n",
              "The Opening  In the Name of God, the Merciful, the Compassi...   \n",
              "The Opening      Praise belongs to God, the Lord of all Being,   \n",
              "The Opening           the All-merciful, the All-compassionate,   \n",
              "The Opening                     the Master of the Day of Doom.   \n",
              "The Opening  Thee only we serve; to Thee alone we pray for ...   \n",
              "\n",
              "                                                  Translation3  \\\n",
              "Name                                                             \n",
              "The Opening  In the name of Allah, the Beneficent, the Merc...   \n",
              "The Opening            Praise be to Allah, Lord of the Worlds,   \n",
              "The Opening                      The Beneficent, the Merciful.   \n",
              "The Opening                      Owner of the Day of Judgment,   \n",
              "The Opening  Thee (alone) we worship; Thee (alone) we ask f...   \n",
              "\n",
              "                                                     Tafaseer1  \\\n",
              "Name                                                             \n",
              "The Opening  In the Name of God the Compassionate the Merciful   \n",
              "The Opening  In the Name of God the name of a thing is that...   \n",
              "The Opening  The Compassionate the Merciful that is to say ...   \n",
              "The Opening  Master of the Day of Judgement that is the day...   \n",
              "The Opening  You alone we worship and You alone we ask for ...   \n",
              "\n",
              "                                                     Tafaseer2  \n",
              "Name                                                            \n",
              "The Opening  In the name of Allah, the Beneficent, the Merc...  \n",
              "The Opening  And on his authority it is related that Ibn 'A...  \n",
              "The Opening  (The Beneficent) the Gentle. (The Merciful) th...  \n",
              "The Opening  (Owner of the Day of Judgement) the Arbitrator...  \n",
              "The Opening  (Thee (alone) we worship), we turn to you as t...  "
            ],
            "text/html": [
              "\n",
              "  <div id=\"df-9c4fbb29-9d18-4bb9-b1f4-e4d92bda0391\" class=\"colab-df-container\">\n",
              "    <div>\n",
              "<style scoped>\n",
              "    .dataframe tbody tr th:only-of-type {\n",
              "        vertical-align: middle;\n",
              "    }\n",
              "\n",
              "    .dataframe tbody tr th {\n",
              "        vertical-align: top;\n",
              "    }\n",
              "\n",
              "    .dataframe thead th {\n",
              "        text-align: right;\n",
              "    }\n",
              "</style>\n",
              "<table border=\"1\" class=\"dataframe\">\n",
              "  <thead>\n",
              "    <tr style=\"text-align: right;\">\n",
              "      <th></th>\n",
              "      <th>Surah</th>\n",
              "      <th>Ayat</th>\n",
              "      <th>Arabic</th>\n",
              "      <th>Translation1</th>\n",
              "      <th>Translation2</th>\n",
              "      <th>Translation3</th>\n",
              "      <th>Tafaseer1</th>\n",
              "      <th>Tafaseer2</th>\n",
              "    </tr>\n",
              "    <tr>\n",
              "      <th>Name</th>\n",
              "      <th></th>\n",
              "      <th></th>\n",
              "      <th></th>\n",
              "      <th></th>\n",
              "      <th></th>\n",
              "      <th></th>\n",
              "      <th></th>\n",
              "      <th></th>\n",
              "    </tr>\n",
              "  </thead>\n",
              "  <tbody>\n",
              "    <tr>\n",
              "      <th>The Opening</th>\n",
              "      <td>1</td>\n",
              "      <td>1</td>\n",
              "      <td>بِسمِ ٱلله الرَّحْمٰنِ الرَّحِيـمِ</td>\n",
              "      <td>All praise be to Allah alone, the Sustainer of...</td>\n",
              "      <td>In the Name of God, the Merciful, the Compassi...</td>\n",
              "      <td>In the name of Allah, the Beneficent, the Merc...</td>\n",
              "      <td>In the Name of God the Compassionate the Merciful</td>\n",
              "      <td>In the name of Allah, the Beneficent, the Merc...</td>\n",
              "    </tr>\n",
              "    <tr>\n",
              "      <th>The Opening</th>\n",
              "      <td>1</td>\n",
              "      <td>2</td>\n",
              "      <td>ٱلْحَمْدُ للَّهِ رَبِّ ٱلْعَالَمِينَ</td>\n",
              "      <td>Most Compassionate, Ever-Merciful,</td>\n",
              "      <td>Praise belongs to God, the Lord of all Being,</td>\n",
              "      <td>Praise be to Allah, Lord of the Worlds,</td>\n",
              "      <td>In the Name of God the name of a thing is that...</td>\n",
              "      <td>And on his authority it is related that Ibn 'A...</td>\n",
              "    </tr>\n",
              "    <tr>\n",
              "      <th>The Opening</th>\n",
              "      <td>1</td>\n",
              "      <td>3</td>\n",
              "      <td>ٱلرَّحْمـٰنِ ٱلرَّحِيمِ</td>\n",
              "      <td>Master of the Day of Judgment.</td>\n",
              "      <td>the All-merciful, the All-compassionate,</td>\n",
              "      <td>The Beneficent, the Merciful.</td>\n",
              "      <td>The Compassionate the Merciful that is to say ...</td>\n",
              "      <td>(The Beneficent) the Gentle. (The Merciful) th...</td>\n",
              "    </tr>\n",
              "    <tr>\n",
              "      <th>The Opening</th>\n",
              "      <td>1</td>\n",
              "      <td>4</td>\n",
              "      <td>مَـٰلِكِ يَوْمِ ٱلدِّينِ</td>\n",
              "      <td>(O Allah!) You alone do we worship and to You ...</td>\n",
              "      <td>the Master of the Day of Doom.</td>\n",
              "      <td>Owner of the Day of Judgment,</td>\n",
              "      <td>Master of the Day of Judgement that is the day...</td>\n",
              "      <td>(Owner of the Day of Judgement) the Arbitrator...</td>\n",
              "    </tr>\n",
              "    <tr>\n",
              "      <th>The Opening</th>\n",
              "      <td>1</td>\n",
              "      <td>5</td>\n",
              "      <td>إِيَّاكَ نَعْبُدُ وَإِيَّاكَ نَسْتَعِينُ</td>\n",
              "      <td>Show us the straight path,</td>\n",
              "      <td>Thee only we serve; to Thee alone we pray for ...</td>\n",
              "      <td>Thee (alone) we worship; Thee (alone) we ask f...</td>\n",
              "      <td>You alone we worship and You alone we ask for ...</td>\n",
              "      <td>(Thee (alone) we worship), we turn to you as t...</td>\n",
              "    </tr>\n",
              "  </tbody>\n",
              "</table>\n",
              "</div>\n",
              "    <div class=\"colab-df-buttons\">\n",
              "\n",
              "  <div class=\"colab-df-container\">\n",
              "    <button class=\"colab-df-convert\" onclick=\"convertToInteractive('df-9c4fbb29-9d18-4bb9-b1f4-e4d92bda0391')\"\n",
              "            title=\"Convert this dataframe to an interactive table.\"\n",
              "            style=\"display:none;\">\n",
              "\n",
              "  <svg xmlns=\"http://www.w3.org/2000/svg\" height=\"24px\" viewBox=\"0 -960 960 960\">\n",
              "    <path d=\"M120-120v-720h720v720H120Zm60-500h600v-160H180v160Zm220 220h160v-160H400v160Zm0 220h160v-160H400v160ZM180-400h160v-160H180v160Zm440 0h160v-160H620v160ZM180-180h160v-160H180v160Zm440 0h160v-160H620v160Z\"/>\n",
              "  </svg>\n",
              "    </button>\n",
              "\n",
              "  <style>\n",
              "    .colab-df-container {\n",
              "      display:flex;\n",
              "      gap: 12px;\n",
              "    }\n",
              "\n",
              "    .colab-df-convert {\n",
              "      background-color: #E8F0FE;\n",
              "      border: none;\n",
              "      border-radius: 50%;\n",
              "      cursor: pointer;\n",
              "      display: none;\n",
              "      fill: #1967D2;\n",
              "      height: 32px;\n",
              "      padding: 0 0 0 0;\n",
              "      width: 32px;\n",
              "    }\n",
              "\n",
              "    .colab-df-convert:hover {\n",
              "      background-color: #E2EBFA;\n",
              "      box-shadow: 0px 1px 2px rgba(60, 64, 67, 0.3), 0px 1px 3px 1px rgba(60, 64, 67, 0.15);\n",
              "      fill: #174EA6;\n",
              "    }\n",
              "\n",
              "    .colab-df-buttons div {\n",
              "      margin-bottom: 4px;\n",
              "    }\n",
              "\n",
              "    [theme=dark] .colab-df-convert {\n",
              "      background-color: #3B4455;\n",
              "      fill: #D2E3FC;\n",
              "    }\n",
              "\n",
              "    [theme=dark] .colab-df-convert:hover {\n",
              "      background-color: #434B5C;\n",
              "      box-shadow: 0px 1px 3px 1px rgba(0, 0, 0, 0.15);\n",
              "      filter: drop-shadow(0px 1px 2px rgba(0, 0, 0, 0.3));\n",
              "      fill: #FFFFFF;\n",
              "    }\n",
              "  </style>\n",
              "\n",
              "    <script>\n",
              "      const buttonEl =\n",
              "        document.querySelector('#df-9c4fbb29-9d18-4bb9-b1f4-e4d92bda0391 button.colab-df-convert');\n",
              "      buttonEl.style.display =\n",
              "        google.colab.kernel.accessAllowed ? 'block' : 'none';\n",
              "\n",
              "      async function convertToInteractive(key) {\n",
              "        const element = document.querySelector('#df-9c4fbb29-9d18-4bb9-b1f4-e4d92bda0391');\n",
              "        const dataTable =\n",
              "          await google.colab.kernel.invokeFunction('convertToInteractive',\n",
              "                                                    [key], {});\n",
              "        if (!dataTable) return;\n",
              "\n",
              "        const docLinkHtml = 'Like what you see? Visit the ' +\n",
              "          '<a target=\"_blank\" href=https://colab.research.google.com/notebooks/data_table.ipynb>data table notebook</a>'\n",
              "          + ' to learn more about interactive tables.';\n",
              "        element.innerHTML = '';\n",
              "        dataTable['output_type'] = 'display_data';\n",
              "        await google.colab.output.renderOutput(dataTable, element);\n",
              "        const docLink = document.createElement('div');\n",
              "        docLink.innerHTML = docLinkHtml;\n",
              "        element.appendChild(docLink);\n",
              "      }\n",
              "    </script>\n",
              "  </div>\n",
              "\n",
              "\n",
              "<div id=\"df-f01181e8-98c7-4879-b51a-23d88e69803e\">\n",
              "  <button class=\"colab-df-quickchart\" onclick=\"quickchart('df-f01181e8-98c7-4879-b51a-23d88e69803e')\"\n",
              "            title=\"Suggest charts\"\n",
              "            style=\"display:none;\">\n",
              "\n",
              "<svg xmlns=\"http://www.w3.org/2000/svg\" height=\"24px\"viewBox=\"0 0 24 24\"\n",
              "     width=\"24px\">\n",
              "    <g>\n",
              "        <path d=\"M19 3H5c-1.1 0-2 .9-2 2v14c0 1.1.9 2 2 2h14c1.1 0 2-.9 2-2V5c0-1.1-.9-2-2-2zM9 17H7v-7h2v7zm4 0h-2V7h2v10zm4 0h-2v-4h2v4z\"/>\n",
              "    </g>\n",
              "</svg>\n",
              "  </button>\n",
              "\n",
              "<style>\n",
              "  .colab-df-quickchart {\n",
              "      --bg-color: #E8F0FE;\n",
              "      --fill-color: #1967D2;\n",
              "      --hover-bg-color: #E2EBFA;\n",
              "      --hover-fill-color: #174EA6;\n",
              "      --disabled-fill-color: #AAA;\n",
              "      --disabled-bg-color: #DDD;\n",
              "  }\n",
              "\n",
              "  [theme=dark] .colab-df-quickchart {\n",
              "      --bg-color: #3B4455;\n",
              "      --fill-color: #D2E3FC;\n",
              "      --hover-bg-color: #434B5C;\n",
              "      --hover-fill-color: #FFFFFF;\n",
              "      --disabled-bg-color: #3B4455;\n",
              "      --disabled-fill-color: #666;\n",
              "  }\n",
              "\n",
              "  .colab-df-quickchart {\n",
              "    background-color: var(--bg-color);\n",
              "    border: none;\n",
              "    border-radius: 50%;\n",
              "    cursor: pointer;\n",
              "    display: none;\n",
              "    fill: var(--fill-color);\n",
              "    height: 32px;\n",
              "    padding: 0;\n",
              "    width: 32px;\n",
              "  }\n",
              "\n",
              "  .colab-df-quickchart:hover {\n",
              "    background-color: var(--hover-bg-color);\n",
              "    box-shadow: 0 1px 2px rgba(60, 64, 67, 0.3), 0 1px 3px 1px rgba(60, 64, 67, 0.15);\n",
              "    fill: var(--button-hover-fill-color);\n",
              "  }\n",
              "\n",
              "  .colab-df-quickchart-complete:disabled,\n",
              "  .colab-df-quickchart-complete:disabled:hover {\n",
              "    background-color: var(--disabled-bg-color);\n",
              "    fill: var(--disabled-fill-color);\n",
              "    box-shadow: none;\n",
              "  }\n",
              "\n",
              "  .colab-df-spinner {\n",
              "    border: 2px solid var(--fill-color);\n",
              "    border-color: transparent;\n",
              "    border-bottom-color: var(--fill-color);\n",
              "    animation:\n",
              "      spin 1s steps(1) infinite;\n",
              "  }\n",
              "\n",
              "  @keyframes spin {\n",
              "    0% {\n",
              "      border-color: transparent;\n",
              "      border-bottom-color: var(--fill-color);\n",
              "      border-left-color: var(--fill-color);\n",
              "    }\n",
              "    20% {\n",
              "      border-color: transparent;\n",
              "      border-left-color: var(--fill-color);\n",
              "      border-top-color: var(--fill-color);\n",
              "    }\n",
              "    30% {\n",
              "      border-color: transparent;\n",
              "      border-left-color: var(--fill-color);\n",
              "      border-top-color: var(--fill-color);\n",
              "      border-right-color: var(--fill-color);\n",
              "    }\n",
              "    40% {\n",
              "      border-color: transparent;\n",
              "      border-right-color: var(--fill-color);\n",
              "      border-top-color: var(--fill-color);\n",
              "    }\n",
              "    60% {\n",
              "      border-color: transparent;\n",
              "      border-right-color: var(--fill-color);\n",
              "    }\n",
              "    80% {\n",
              "      border-color: transparent;\n",
              "      border-right-color: var(--fill-color);\n",
              "      border-bottom-color: var(--fill-color);\n",
              "    }\n",
              "    90% {\n",
              "      border-color: transparent;\n",
              "      border-bottom-color: var(--fill-color);\n",
              "    }\n",
              "  }\n",
              "</style>\n",
              "\n",
              "  <script>\n",
              "    async function quickchart(key) {\n",
              "      const quickchartButtonEl =\n",
              "        document.querySelector('#' + key + ' button');\n",
              "      quickchartButtonEl.disabled = true;  // To prevent multiple clicks.\n",
              "      quickchartButtonEl.classList.add('colab-df-spinner');\n",
              "      try {\n",
              "        const charts = await google.colab.kernel.invokeFunction(\n",
              "            'suggestCharts', [key], {});\n",
              "      } catch (error) {\n",
              "        console.error('Error during call to suggestCharts:', error);\n",
              "      }\n",
              "      quickchartButtonEl.classList.remove('colab-df-spinner');\n",
              "      quickchartButtonEl.classList.add('colab-df-quickchart-complete');\n",
              "    }\n",
              "    (() => {\n",
              "      let quickchartButtonEl =\n",
              "        document.querySelector('#df-f01181e8-98c7-4879-b51a-23d88e69803e button');\n",
              "      quickchartButtonEl.style.display =\n",
              "        google.colab.kernel.accessAllowed ? 'block' : 'none';\n",
              "    })();\n",
              "  </script>\n",
              "</div>\n",
              "\n",
              "    </div>\n",
              "  </div>\n"
            ],
            "application/vnd.google.colaboratory.intrinsic+json": {
              "type": "dataframe",
              "variable_name": "hq_df",
              "summary": "{\n  \"name\": \"hq_df\",\n  \"rows\": 6236,\n  \"fields\": [\n    {\n      \"column\": \"Surah\",\n      \"properties\": {\n        \"dtype\": \"number\",\n        \"std\": 26,\n        \"min\": 1,\n        \"max\": 114,\n        \"num_unique_values\": 114,\n        \"samples\": [\n          81,\n          5,\n          41\n        ],\n        \"semantic_type\": \"\",\n        \"description\": \"\"\n      }\n    },\n    {\n      \"column\": \"Ayat\",\n      \"properties\": {\n        \"dtype\": \"number\",\n        \"std\": 50,\n        \"min\": 1,\n        \"max\": 286,\n        \"num_unique_values\": 286,\n        \"samples\": [\n          10,\n          268,\n          144\n        ],\n        \"semantic_type\": \"\",\n        \"description\": \"\"\n      }\n    },\n    {\n      \"column\": \"Arabic\",\n      \"properties\": {\n        \"dtype\": \"string\",\n        \"num_unique_values\": 6083,\n        \"samples\": [\n          \"\\u0648\\u064e\\u0645\\u064e\\u0622 \\u0623\\u064e\\u0631\\u0652\\u0633\\u064e\\u0644\\u0652\\u0646\\u064e\\u0627 \\u0641\\u0650\\u064a \\u0642\\u064e\\u0631\\u0652\\u064a\\u064e\\u0629\\u064d \\u0645\\u0651\\u0650\\u0646 \\u0646\\u0651\\u064e\\u0628\\u0650\\u064a\\u0651\\u064d \\u0625\\u0650\\u0644\\u0627\\u0651\\u064e \\u0623\\u064e\\u062e\\u064e\\u0630\\u0652\\u0646\\u064e\\u0627 \\u0623\\u064e\\u0647\\u0652\\u0644\\u064e\\u0647\\u064e\\u0627 \\u0628\\u0650\\u0671\\u0644\\u0652\\u0628\\u064e\\u0623\\u0652\\u0633\\u064e\\u0622\\u0621\\u0650 \\u0648\\u064e\\u0671\\u0644\\u0636\\u0651\\u064e\\u0631\\u0651\\u064e\\u0622\\u0621\\u0650 \\u0644\\u064e\\u0639\\u064e\\u0644\\u0651\\u064e\\u0647\\u064f\\u0645\\u0652 \\u064a\\u064e\\u0636\\u0651\\u064e\\u0631\\u0651\\u064e\\u0639\\u064f\\u0648\\u0646\\u064e\",\n          \"\\u0628\\u064e\\u0644\\u0650 \\u0671\\u0644\\u0644\\u0651\\u064e\\u0647\\u064e \\u0641\\u064e\\u0671\\u0639\\u0652\\u0628\\u064f\\u062f\\u0652 \\u0648\\u064e\\u0643\\u064f\\u0646 \\u0645\\u0651\\u0650\\u0646\\u064e \\u0671\\u0644\\u0634\\u0651\\u064e\\u0627\\u0643\\u0650\\u0631\\u0650\\u064a\\u0646\\u064e\",\n          \"\\u0641\\u064e\\u0671\\u0644\\u0652\\u0645\\u064f\\u0642\\u064e\\u0633\\u0651\\u0650\\u0645\\u064e\\u0627\\u062a\\u0650 \\u0623\\u064e\\u0645\\u0652\\u0631\\u0627\\u064b\"\n        ],\n        \"semantic_type\": \"\",\n        \"description\": \"\"\n      }\n    },\n    {\n      \"column\": \"Translation1\",\n      \"properties\": {\n        \"dtype\": \"string\",\n        \"num_unique_values\": 6162,\n        \"samples\": [\n          \"And Musa (Moses) said: \\u2018O Pharaoh! Indeed, I am (raised as) a Messenger from the Lord of all the worlds.\",\n          \"Beware! You are the ones who love them, but they do not (even) like you, although you believe in all the Books. When they meet you, they say: \\u2018We have accepted faith,\\u2019 but when alone, they bite their fingers in rage against you. Say: \\u2018Perish in your pent-up rage.\\u2019 Certainly, Allah knows well the secrets of hearts.\",\n          \"Has this admonition (the Qur\\u2019an) been sent down to him alone out of all of us?\\u2019 To be more precise, they are (caught) in doubt about My admonition. But in truth they have not yet tasted My torment.\"\n        ],\n        \"semantic_type\": \"\",\n        \"description\": \"\"\n      }\n    },\n    {\n      \"column\": \"Translation2\",\n      \"properties\": {\n        \"dtype\": \"string\",\n        \"num_unique_values\": 6111,\n        \"samples\": [\n          \"Of those We created are a nation who guide by the truth, and by it act with justice.\",\n          \"Say: \\u2019Who shall guard you by night and in the daytime from the All-merciful?\\u2019 Nay, but from the Remembrance of their Lord they are turning away.\",\n          \"in columns outstretched.\"\n        ],\n        \"semantic_type\": \"\",\n        \"description\": \"\"\n      }\n    },\n    {\n      \"column\": \"Translation3\",\n      \"properties\": {\n        \"dtype\": \"string\",\n        \"num_unique_values\": 6139,\n        \"samples\": [\n          \"In that day other faces will be calm,\",\n          \"And they have led many astray, and Thou increasest the wrong-doers in naught save error.\",\n          \"And spend of that wherewith We have provided you before death cometh unto one of you and he saith: My Lord! If only thou wouldst reprieve me for a little while, then I would give alms and be among the righteous.\"\n        ],\n        \"semantic_type\": \"\",\n        \"description\": \"\"\n      }\n    },\n    {\n      \"column\": \"Tafaseer1\",\n      \"properties\": {\n        \"dtype\": \"string\",\n        \"num_unique_values\": 6171,\n        \"samples\": [\n          \"O my father! Indeed there has come to me of knowledge that which has not come to you. So follow me that I may guide you to a path a route that is right that is straight.\",\n          \"And truly Hell shall be their tryst all of them that is all those who follow you shall be with you in Hell.\",\n          \"And mention the day when He will call to them and say \\u2018Where now are My associates those whom you used to claim?\\u2019 \\u2014 this is mentioned again in order to expound upon it\"\n        ],\n        \"semantic_type\": \"\",\n        \"description\": \"\"\n      }\n    },\n    {\n      \"column\": \"Tafaseer2\",\n      \"properties\": {\n        \"dtype\": \"string\",\n        \"num_unique_values\": 6209,\n        \"samples\": [\n          \"(Lo! Allah hath cursed) chastises (the disbelievers) the disbelievers of Mecca on the Day of Badr, (and hath prepared for them a flaming fire,\",\n          \"(If He will, He can remove you, O people) He can destroy you, O human beings, (and produce others (in your stead)) create different beings who are better and more obedient than you. (Allah is Able to do that) He is Able to destroy you and create different beings instead of you.\",\n          \"(Hast thou seen) O Muhammad (him who maketh his desire his god) the one who worships a deity because of the whim of his ego; whenever his ego desires something, he worships it-this refers to al-Nadr Ibn al-Harith-and it is also said that this refers to Abu Jahl; as it is said that this refers to al-Harith Ibn Qays, (and Allah sendeth him astray) from faith (purposely) as Allah knows he is among the folk of error, (and sealeth up his hearing) and Allah places a covering on his hearing so that he does not hear the Truth (and his heart) and a covering on his heart so that he does not understand the Truth, (and setteth on his sight a covering) and places a covering on his sight so that He does not see the Truth? (Then who will lead him) who will guide him to the religion of Allah (after Allah) has sent him astray? (Will ye not then heed) by means of the Qur'an and understand that Allah is one, without partners?\"\n        ],\n        \"semantic_type\": \"\",\n        \"description\": \"\"\n      }\n    }\n  ]\n}"
            }
          },
          "metadata": {},
          "execution_count": 7
        }
      ]
    },
    {
      "cell_type": "code",
      "source": [
        "df = hq_df.drop(columns=['Translation2','Translation3','Tafaseer2'])"
      ],
      "metadata": {
        "id": "CABM3NBsyV_n"
      },
      "execution_count": 8,
      "outputs": []
    },
    {
      "cell_type": "code",
      "source": [
        "df.shape"
      ],
      "metadata": {
        "colab": {
          "base_uri": "https://localhost:8080/"
        },
        "id": "h26vqLeSQT6I",
        "outputId": "a26422c0-94da-44c6-dd16-ab4c67364fa0"
      },
      "execution_count": 9,
      "outputs": [
        {
          "output_type": "execute_result",
          "data": {
            "text/plain": [
              "(6236, 5)"
            ]
          },
          "metadata": {},
          "execution_count": 9
        }
      ]
    },
    {
      "cell_type": "code",
      "execution_count": 10,
      "metadata": {
        "colab": {
          "base_uri": "https://localhost:8080/"
        },
        "id": "L0qoCK1JgnDy",
        "outputId": "d3945910-8961-4562-9356-21cf6f7577e1"
      },
      "outputs": [
        {
          "output_type": "stream",
          "name": "stdout",
          "text": [
            "وَمَا لَهُمْ أَلاَّ يُعَذِّبَهُمُ ٱللَّهُ وَهُمْ يَصُدُّونَ عَنِ ٱلْمَسْجِدِ ٱلْحَرَامِ وَمَا كَانُوۤاْ أَوْلِيَآءَهُ إِنْ أَوْلِيَآؤُهُ إِلاَّ ٱلْمُتَّقُونَ وَلَـٰكِنَّ أَكْثَرَهُمْ لاَ يَعْلَمُونَ\n",
            "أَلَمْ أَعْهَدْ إِلَيْكُمْ يٰبَنِيۤ ءَادَمَ أَن لاَّ تَعْبُدُواْ ٱلشَّيطَانَ إِنَّهُ لَكُمْ عَدُوٌّ مُّبِينٌ\n",
            "وَمَا لِيَ لاَ أَعْبُدُ ٱلَّذِي فَطَرَنِي وَإِلَيْهِ تُرْجَعُونَ\n",
            "قَالُواْ ٱتَّخَذَ ٱللَّهُ وَلَداً سُبْحَانَهُ هُوَ ٱلْغَنِيُّ لَهُ مَا فِي ٱلسَّمَٰوَٰت وَمَا فِي ٱلأَرْضِ إِنْ عِندَكُمْ مِّن سُلْطَانٍ بِهَـٰذَآ أَتقُولُونَ عَلَى ٱللَّهِ مَا لاَ تَعْلَمُونَ\n",
            "ثُمَّ إِذَا شَآءَ أَنشَرَهُ\n"
          ]
        }
      ],
      "source": [
        "# Print a few sample documents\n",
        "texts = df[\"Arabic\"].tolist()\n",
        "\n",
        "random.seed(100)\n",
        "for item in random.sample(texts, 5):\n",
        "  print(item)"
      ]
    },
    {
      "cell_type": "markdown",
      "metadata": {
        "id": "SHUbhztQHuqa"
      },
      "source": [
        "### Embed the documents and store them in an index"
      ]
    },
    {
      "cell_type": "code",
      "execution_count": 11,
      "metadata": {
        "colab": {
          "base_uri": "https://localhost:8080/"
        },
        "id": "I0H4AAhqaBB9",
        "outputId": "41429a14-db78-41dc-819e-e84ebe5335c6"
      },
      "outputs": [
        {
          "output_type": "execute_result",
          "data": {
            "text/plain": [
              "True"
            ]
          },
          "metadata": {},
          "execution_count": 11
        }
      ],
      "source": [
        "response = co.embed(texts=texts, model='multilingual-22-12').embeddings\n",
        "embeds = np.array(response)\n",
        "# Embed the documents and store in index\n",
        "search_index = AnnoyIndex(embeds.shape[1], 'angular')\n",
        "# Add all the vectors to the search index\n",
        "for i in range(len(embeds)):\n",
        "    search_index.add_item(i, embeds[i])\n",
        "\n",
        "search_index.build(100) # 10 trees\n",
        "search_index.save('quran_index.ann')"
      ]
    },
    {
      "cell_type": "code",
      "source": [
        "embeds.shape"
      ],
      "metadata": {
        "colab": {
          "base_uri": "https://localhost:8080/"
        },
        "id": "fJ4Nudat-A-c",
        "outputId": "f9116e4c-e851-48b3-e3dc-55564dc75bf3"
      },
      "execution_count": 12,
      "outputs": [
        {
          "output_type": "execute_result",
          "data": {
            "text/plain": [
              "(6236, 768)"
            ]
          },
          "metadata": {},
          "execution_count": 12
        }
      ]
    },
    {
      "cell_type": "markdown",
      "metadata": {
        "id": "NRNI05-UH25W"
      },
      "source": [
        "### Enter a query"
      ]
    },
    {
      "cell_type": "code",
      "execution_count": 13,
      "metadata": {
        "id": "eM-3dIataMgr"
      },
      "outputs": [],
      "source": [
        "# They are all the same ingredients\n",
        "# Expected: Output recipes are the same\n",
        "queries = [\"مَـٰلِكِ يَوْمِ ٱلدِّينِ\", \"What does the quran say about the dis-believers\"]\n",
        "\n",
        "queries_lang = [\"Arabic\", \"English\"]"
      ]
    },
    {
      "cell_type": "markdown",
      "metadata": {
        "id": "ubHPn93AH8bY"
      },
      "source": [
        "### Return the results most similar to the query\n",
        "\n"
      ]
    },
    {
      "cell_type": "code",
      "source": [
        "results_list = []\n",
        "\n",
        "for idx, q in enumerate(queries):\n",
        "\n",
        "    # Retrieve the nearest neighbors\n",
        "    query_embed = co.embed(texts=[q], model='multilingual-22-12').embeddings\n",
        "    similar_item_ids, _ = search_index.get_nns_by_vector(query_embed[0], 5, include_distances=True)\n",
        "\n",
        "    if len(similar_item_ids) >= 2:\n",
        "        # Format the results\n",
        "        results = pd.DataFrame(data={'Surah': df.iloc[similar_item_ids[0]]['Surah'],\n",
        "                                     'Ayah': df.iloc[similar_item_ids[0]]['Ayat'],\n",
        "                                     'Arabic': df.iloc[similar_item_ids[0]]['Arabic'],\n",
        "                                     'Translation': df.iloc[similar_item_ids[0]]['Translation1']}, index=[idx])\n",
        "\n",
        "        results_list.append(results)\n",
        "        print(f\"Query:'{q}'\\nNearest neighbors:\")\n",
        "        print(queries_lang[idx])\n",
        "        print(results)\n",
        "        print(\"\\n\")\n",
        "    else:\n",
        "        print(\"Not enough similar items found for query:\", q)"
      ],
      "metadata": {
        "id": "RHfiSowf__xH",
        "colab": {
          "base_uri": "https://localhost:8080/"
        },
        "outputId": "254c657b-3adc-4384-f4eb-0146021bc478"
      },
      "execution_count": 14,
      "outputs": [
        {
          "output_type": "stream",
          "name": "stdout",
          "text": [
            "Query:'مَـٰلِكِ يَوْمِ ٱلدِّينِ'\n",
            "Nearest neighbors:\n",
            "Arabic\n",
            "   Surah  Ayah                    Arabic  \\\n",
            "0      1     4  مَـٰلِكِ يَوْمِ ٱلدِّينِ   \n",
            "\n",
            "                                         Translation  \n",
            "0  (O Allah!) You alone do we worship and to You ...  \n",
            "\n",
            "\n",
            "Query:'What does the quran say about the dis-believers'\n",
            "Nearest neighbors:\n",
            "English\n",
            "   Surah  Ayah                                             Arabic  \\\n",
            "1      9    45  إِنَّمَا يَسْتَأْذِنُكَ ٱلَّذِينَ لاَ يُؤْمِنُ...   \n",
            "\n",
            "                                         Translation  \n",
            "1  Only those who do not believe in Allah and the...  \n",
            "\n",
            "\n"
          ]
        }
      ]
    },
    {
      "cell_type": "markdown",
      "source": [
        "### Initialise the pinecone index\n"
      ],
      "metadata": {
        "id": "hc9V3aQwg1bY"
      }
    },
    {
      "cell_type": "code",
      "source": [
        "from pinecone import Pinecone\n",
        "\n",
        "pc = Pinecone(api_key=\"\") # add your pinecone API key here\n",
        "\n",
        "index_name = 'quranic'\n",
        "\n",
        "# if the index does not exist, we create it\n",
        "if index_name not in pc.list_indexes().names():\n",
        "    pc.create_index(\n",
        "        index_name,\n",
        "        dimension=shape[1],\n",
        "        metric='cosine'\n",
        "    )\n",
        "\n",
        "# connect to index\n",
        "index = pc.Index(index_name)"
      ],
      "metadata": {
        "id": "KSgL9A5QRou4"
      },
      "execution_count": 15,
      "outputs": []
    },
    {
      "cell_type": "code",
      "source": [
        "import numpy as np\n",
        "\n",
        "shape = np.array(embeds).shape\n",
        "shape"
      ],
      "metadata": {
        "colab": {
          "base_uri": "https://localhost:8080/"
        },
        "id": "8QJVe47FV5z9",
        "outputId": "e4e69b8e-fd5d-451d-be48-66ed036886fb"
      },
      "execution_count": 16,
      "outputs": [
        {
          "output_type": "execute_result",
          "data": {
            "text/plain": [
              "(6236, 768)"
            ]
          },
          "metadata": {},
          "execution_count": 16
        }
      ]
    },
    {
      "cell_type": "markdown",
      "source": [
        "### Upsert the data into pinecone\n"
      ],
      "metadata": {
        "id": "vVdBDjBahDLy"
      }
    },
    {
      "cell_type": "code",
      "source": [
        "batch_size = 128\n",
        "\n",
        "ids = [str(i) for i in range(shape[0])]\n",
        "# create list of metadata dictionaries\n",
        "meta = [{'Arabic': arabic, 'Surah': surah, 'Ayat': ayat, 'Translation1': translation, 'Tafaseer1': tafaseer} for arabic, surah, ayat, translation, tafaseer in zip(df['Arabic'], df['Surah'], df['Ayat'], df['Translation1'], df['Tafaseer1'])]\n",
        "\n",
        "# create list of (id, vector, metadata) tuples to be upserted\n",
        "to_upsert = list(zip(ids, embeds, meta))\n",
        "\n",
        "for i in range(0, shape[0], batch_size):\n",
        "    i_end = min(i+batch_size, shape[0])\n",
        "    index.upsert(vectors=to_upsert[i:i_end])\n",
        "\n",
        "# let's view the index statistics\n",
        "index.describe_index_stats()"
      ],
      "metadata": {
        "colab": {
          "base_uri": "https://localhost:8080/"
        },
        "id": "AuKKn_ULVSRh",
        "outputId": "5bb642de-ab40-4adf-ba3c-97702b93b967"
      },
      "execution_count": 19,
      "outputs": [
        {
          "output_type": "execute_result",
          "data": {
            "text/plain": [
              "{'dimension': 768,\n",
              " 'index_fullness': 0.06236,\n",
              " 'namespaces': {'': {'vector_count': 6236}},\n",
              " 'total_vector_count': 6236}"
            ]
          },
          "metadata": {},
          "execution_count": 19
        }
      ]
    },
    {
      "cell_type": "markdown",
      "source": [
        "### Return the results most similar to the query from pinecone\n"
      ],
      "metadata": {
        "id": "qaaqL-mRhMux"
      }
    },
    {
      "cell_type": "code",
      "source": [
        "query = \"What does the quran say about the dis-believers?\"\n",
        "\n",
        "# create the query embedding\n",
        "xq = co.embed(\n",
        "    texts=[query],\n",
        "    model='multilingual-22-12',\n",
        "    truncate='NONE'\n",
        ").embeddings\n",
        "\n",
        "print(np.array(xq).shape)\n",
        "\n",
        "# query, returning the top 10 most similar results\n",
        "res = index.query(vector=xq, top_k=10, include_metadata=True)\n",
        "res"
      ],
      "metadata": {
        "colab": {
          "base_uri": "https://localhost:8080/"
        },
        "id": "9GSTv2nkXT5x",
        "outputId": "8cd0f29a-5241-4da2-bc02-69a89f8b628e"
      },
      "execution_count": 20,
      "outputs": [
        {
          "output_type": "stream",
          "name": "stdout",
          "text": [
            "(1, 768)\n"
          ]
        },
        {
          "output_type": "execute_result",
          "data": {
            "text/plain": [
              "{'matches': [{'id': '1279',\n",
              "              'metadata': {'Arabic': 'إِنَّمَا يَسْتَأْذِنُكَ ٱلَّذِينَ لاَ '\n",
              "                                     'يُؤْمِنُونَ بِٱللَّهِ وَٱلْيَوْمِ '\n",
              "                                     'ٱلآخِرِ وَٱرْتَابَتْ قُلُوبُهُمْ فَهُمْ '\n",
              "                                     'فِي رَيْبِهِمْ يَتَرَدَّدُونَ',\n",
              "                           'Ayat': 45.0,\n",
              "                           'Surah': 9.0,\n",
              "                           'Tafaseer1': 'They alone ask leave of you to stay '\n",
              "                                        'behind who do not believe in God and '\n",
              "                                        'the Last Day and whose hearts are '\n",
              "                                        'doubtful uncertain about religion so '\n",
              "                                        'in their doubt they waver they are '\n",
              "                                        'confused.',\n",
              "                           'Translation1': 'Only those who do not believe in '\n",
              "                                           'Allah and the Last Day and whose '\n",
              "                                           'hearts are in doubt will seek '\n",
              "                                           'leave (i.e., exemption from '\n",
              "                                           'fighting) from you. So in their '\n",
              "                                           'doubt they are bewildered, lost in '\n",
              "                                           'disorientation.'},\n",
              "              'score': 0.914640069,\n",
              "              'values': []},\n",
              "             {'id': '531',\n",
              "              'metadata': {'Arabic': 'وَمَاذَا عَلَيْهِمْ لَوْ آمَنُواْ '\n",
              "                                     'بِٱللَّهِ وَٱلْيَوْمِ ٱلآخِرِ '\n",
              "                                     'وَأَنْفَقُواْ مِمَّا رَزَقَهُمُ ٱللَّهُ '\n",
              "                                     'وَكَانَ ٱللَّهُ بِهِم عَلِيماً',\n",
              "                           'Ayat': 39.0,\n",
              "                           'Surah': 4.0,\n",
              "                           'Tafaseer1': 'And what burden is on them if they '\n",
              "                                        'were to believe in God and the Last '\n",
              "                                        'Day and expend of what God has '\n",
              "                                        'provided them? that is to say what '\n",
              "                                        'harm would this cause them? In other '\n",
              "                                        'words there is no harm therein. '\n",
              "                                        'Rather harm lies in what they follow '\n",
              "                                        'the interrogative is meant as a '\n",
              "                                        'disavowal; the law of law āmanū ‘if '\n",
              "                                        'they were to believe’ conveys the '\n",
              "                                        'sense of the verbal noun sc. mādhā '\n",
              "                                        '‘alayhim īmānuhum ‘what burden would '\n",
              "                                        'their belief be upon them?’. God is '\n",
              "                                        'ever Aware of them and will requite '\n",
              "                                        'them for what they have done.',\n",
              "                           'Translation1': 'And what loss would they have '\n",
              "                                           'suffered, if they had believed in '\n",
              "                                           'Allah and the Last Day, and spent '\n",
              "                                           '(in His way) of what Allah had '\n",
              "                                           'given them? And Allah is Well '\n",
              "                                           'Aware of them (i.e., their state '\n",
              "                                           'of affairs).'},\n",
              "              'score': 0.911183655,\n",
              "              'values': []},\n",
              "             {'id': '1707',\n",
              "              'metadata': {'Arabic': 'الۤمۤر تِلْكَ آيَاتُ ٱلْكِتَابِ '\n",
              "                                     'وَٱلَّذِيۤ أُنزِلَ إِلَيْكَ مِن رَّبِّكَ '\n",
              "                                     'ٱلْحَقُّ وَلَـٰكِنَّ أَكْثَرَ ٱلنَّاسِ '\n",
              "                                     'لاَ يُؤْمِنُونَ',\n",
              "                           'Ayat': 1.0,\n",
              "                           'Surah': 13.0,\n",
              "                           'Tafaseer1': 'Alif lām mīm rā’ God knows best what '\n",
              "                                        'He means by these letters. Those '\n",
              "                                        'these verses are the verses of the '\n",
              "                                        'Book the Qur’ān the genitive '\n",
              "                                        'annexation carries the meaning of '\n",
              "                                        'partitive min ‘from’ and that which '\n",
              "                                        'has been revealed to you from your '\n",
              "                                        'Lord namely the Qur’ān this preceding '\n",
              "                                        'sentence constitutes the subject the '\n",
              "                                        'predicate of which is the following '\n",
              "                                        'is the Truth wherein is no doubt but '\n",
              "                                        'most people that is the people of '\n",
              "                                        'Mecca do not believe that it is from '\n",
              "                                        'God exalted be He.',\n",
              "                           'Translation1': 'Alif, Lam, Mim, Ra. (Only Allah '\n",
              "                                           'and the Messenger [blessings and '\n",
              "                                           'peace be upon him] know the real '\n",
              "                                           'meaning.) These are the Verses of '\n",
              "                                           'the Book of Allah, and whatever '\n",
              "                                           'has been revealed to you from your '\n",
              "                                           'Lord is the truth, but most people '\n",
              "                                           'do not believe.'},\n",
              "              'score': 0.910368145,\n",
              "              'values': []},\n",
              "             {'id': '4503',\n",
              "              'metadata': {'Arabic': 'وَأَمَّا ٱلَّذِينَ كَفَرُوۤاْ أَفَلَمْ '\n",
              "                                     'تَكُنْ ءَايَٰتِى تُتْلَىٰ عَلَيْكُمْ '\n",
              "                                     'فَٱسْتَكْبَرْتُمْ وَكُنتُمْ قَوْماً '\n",
              "                                     'مُّجْرِمِينَ',\n",
              "                           'Ayat': 31.0,\n",
              "                           'Surah': 45.0,\n",
              "                           'Tafaseer1': 'But as for those who disbelieved it '\n",
              "                                        'will be said to them ‘Were not My '\n",
              "                                        'signs was not the Qur’ān recited to '\n",
              "                                        'you but you were disdainful you were '\n",
              "                                        'arrogant and were a guilty a '\n",
              "                                        'disbelieving lot?',\n",
              "                           'Translation1': 'And those who disbelieved (it will '\n",
              "                                           'be said to them:) ‘Were My Verses '\n",
              "                                           'not recited to you? But you showed '\n",
              "                                           'arrogance and you were the '\n",
              "                                           'evildoers.’'},\n",
              "              'score': 0.90987879,\n",
              "              'values': []},\n",
              "             {'id': '14',\n",
              "              'metadata': {'Arabic': 'وَمِنَ ٱلنَّاسِ مَن يَقُولُ آمَنَّا '\n",
              "                                     'بِٱللَّهِ وَبِٱلْيَوْمِ ٱلآخِرِ وَمَا '\n",
              "                                     'هُم بِمُؤْمِنِينَ',\n",
              "                           'Ayat': 8.0,\n",
              "                           'Surah': 2.0,\n",
              "                           'Tafaseer1': 'The following was revealed concerning '\n",
              "                                        'the hypocrites and some people there '\n",
              "                                        'are who say ‘We believe in God and '\n",
              "                                        'the Last Day’ that is in the Day of '\n",
              "                                        'Resurrection because it is the very '\n",
              "                                        'last day; but they are not believers '\n",
              "                                        'the plural import of man in man yaqūl '\n",
              "                                        '‘who says’ is taken into account here '\n",
              "                                        'as expressed by a pronoun hum that '\n",
              "                                        'expresses this plural meaning.',\n",
              "                           'Translation1': 'And amongst people there are '\n",
              "                                           '(also) some who say: ‘We believe '\n",
              "                                           'in Allah and the Last Day,’ '\n",
              "                                           'whereas they are not (at all) '\n",
              "                                           'believers.'},\n",
              "              'score': 0.909308374,\n",
              "              'values': []},\n",
              "             {'id': '1396',\n",
              "              'metadata': {'Arabic': 'كَذَلِكَ حَقَّتْ كَلِمَتُ رَبِّكَ عَلَى '\n",
              "                                     'ٱلَّذِينَ فَسَقُوۤاْ أَنَّهُمْ لاَ '\n",
              "                                     'يُؤْمِنُونَ',\n",
              "                           'Ayat': 33.0,\n",
              "                           'Surah': 10.0,\n",
              "                           'Tafaseer1': 'Thus just as those are turned away '\n",
              "                                        'from faith so the Word of your Lord '\n",
              "                                        'is justified concerning those who are '\n",
              "                                        'wicked those who disbelieve and this '\n",
              "                                        'Word is either the verse Q. '\n",
              "                                        '3213‘Verily I shall fill Hell with '\n",
              "                                        'jinn and mankind together’ or it is '\n",
              "                                        'the following that they do not '\n",
              "                                        'believe.',\n",
              "                           'Translation1': 'That is how the judgment of your '\n",
              "                                           'Lord is proved true against the '\n",
              "                                           'defiant that they will not '\n",
              "                                           'believe.'},\n",
              "              'score': 0.909047365,\n",
              "              'values': []},\n",
              "             {'id': '1403',\n",
              "              'metadata': {'Arabic': 'وَمِنهُمْ مَّن يُؤْمِنُ بِهِ وَمِنْهُمْ '\n",
              "                                     'مَّن لاَّ يُؤْمِنُ بِهِ وَرَبُّكَ '\n",
              "                                     'أَعْلَمُ بِٱلْمُفْسِدِينَ',\n",
              "                           'Ayat': 40.0,\n",
              "                           'Surah': 10.0,\n",
              "                           'Tafaseer1': 'And of them that is of the people of '\n",
              "                                        'Mecca are some who believe in it God '\n",
              "                                        'being aware of this in their case and '\n",
              "                                        'some who would never believe therein. '\n",
              "                                        'And your Lord knows very well the '\n",
              "                                        'corrupters this is a threat for them.',\n",
              "                           'Translation1': 'Amongst them there is someone who '\n",
              "                                           'will believe in it and some other '\n",
              "                                           'who will not believe in it. And '\n",
              "                                           'your Lord knows them full well who '\n",
              "                                           'rouse mischief.'},\n",
              "              'score': 0.909025609,\n",
              "              'values': []},\n",
              "             {'id': '2837',\n",
              "              'metadata': {'Arabic': 'وَيَقُولُونَ آمَنَّا بِٱللَّهِ '\n",
              "                                     'وَبِٱلرَّسُولِ وَأَطَعْنَا ثُمَّ '\n",
              "                                     'يَتَوَلَّىٰ فَرِيقٌ مِّنْهُمْ مِّن '\n",
              "                                     'بَعْدِ ذٰلِكَ وَمَآ أُوْلَـٰئِكَ '\n",
              "                                     'بِٱلْمُؤْمِنِينَ',\n",
              "                           'Ayat': 47.0,\n",
              "                           'Surah': 24.0,\n",
              "                           'Tafaseer1': 'And they the hypocrites say ‘We '\n",
              "                                        'believe in we affirm the truth of God '\n",
              "                                        'of His Oneness and the Messenger '\n",
              "                                        'Muhammad (s) and we obey’ them in '\n",
              "                                        'what rulings they God and Muhammad '\n",
              "                                        'give. Then after that a party of them '\n",
              "                                        'turn away they are averse to it and '\n",
              "                                        'those those who are averse they are '\n",
              "                                        'not believers as believers should be '\n",
              "                                        'believers whose hearts agree with the '\n",
              "                                        'words of their tongues.',\n",
              "                           'Translation1': 'And they say: ‘We have believed in '\n",
              "                                           'Allah and the Messenger and we '\n",
              "                                           'obey.’ Then, after (saying) this, '\n",
              "                                           'a group of them turn away (from '\n",
              "                                           'their affirmation). And (in fact) '\n",
              "                                           'these people are not (at all) '\n",
              "                                           'believers.'},\n",
              "              'score': 0.908686161,\n",
              "              'values': []},\n",
              "             {'id': '4412',\n",
              "              'metadata': {'Arabic': 'وَقِيلِهِ يٰرَبِّ إِنَّ هَـٰؤُلاَءِ '\n",
              "                                     'قَوْمٌ لاَّ يُؤْمِنُونَ',\n",
              "                           'Ayat': 88.0,\n",
              "                           'Surah': 43.0,\n",
              "                           'Tafaseer1': 'And as for his saying that is the '\n",
              "                                        'saying of the Prophet Muhammad (s) '\n",
              "                                        'wa-qīlihi is accusative dependent '\n",
              "                                        'because it is a verbal noun followed '\n",
              "                                        'by an implicit verb in other words '\n",
              "                                        'wa-qāla qīlihi ‘and he said his '\n",
              "                                        'saying’ ‘O my Lord! These are indeed '\n",
              "                                        'a people who have no faith’.',\n",
              "                           'Translation1': 'And by his (Esteemed Messenger’s) '\n",
              "                                           'saying: ‘O Lord, surely, they are '\n",
              "                                           'a people who (somehow) do not tend '\n",
              "                                           'to believe.’'},\n",
              "              'score': 0.908648,\n",
              "              'values': []},\n",
              "             {'id': '651',\n",
              "              'metadata': {'Arabic': 'وَإِن مِّنْ أَهْلِ ٱلْكِتَابِ إِلاَّ '\n",
              "                                     'لَيُؤْمِنَنَّ بِهِ قَبْلَ مَوْتِهِ '\n",
              "                                     'وَيَوْمَ ٱلْقِيَامَةِ يَكُونُ عَلَيْهِمْ '\n",
              "                                     'شَهِيداً',\n",
              "                           'Ayat': 159.0,\n",
              "                           'Surah': 4.0,\n",
              "                           'Tafaseer1': 'And there is not one of the People of '\n",
              "                                        'the Scripture but will assuredly '\n",
              "                                        'believe in him in Jesus before his '\n",
              "                                        'death that is before the death of one '\n",
              "                                        'belonging to the People of the '\n",
              "                                        'Scripture upon seeing the angels of '\n",
              "                                        'death with his very eyes at which '\n",
              "                                        'point his faith will not profit him; '\n",
              "                                        'or it means before the death of Jesus '\n",
              "                                        'after he descends at the approach of '\n",
              "                                        'the Hour as is stated in hadīth; and '\n",
              "                                        'on the Day of Resurrection he Jesus '\n",
              "                                        'will be a witness against them of '\n",
              "                                        'what they did when he was sent to '\n",
              "                                        'them.',\n",
              "                           'Translation1': 'And, (shortly before the Last Hour '\n",
              "                                           'at the time of the Messiah’s '\n",
              "                                           'descent,) there will not be any '\n",
              "                                           '(individual or sect) of the People '\n",
              "                                           'of the Book, but will (rightly) '\n",
              "                                           'believe in ‘Isa (Jesus) before his '\n",
              "                                           'death; and ‘Isa (Jesus) will bear '\n",
              "                                           'witness to them on the Day of '\n",
              "                                           'Resurrection.'},\n",
              "              'score': 0.908558607,\n",
              "              'values': []}],\n",
              " 'namespace': '',\n",
              " 'usage': {'read_units': 6}}"
            ]
          },
          "metadata": {},
          "execution_count": 20
        }
      ]
    },
    {
      "cell_type": "code",
      "source": [
        "for match in res['matches']:\n",
        "    print(f\"{match['score']:.2f}: {match['metadata']['Arabic']}\")\n",
        "    print(f\"{match['score']:.2f}: {match['metadata']['Translation1']}\")\n",
        "    print(f\"{match['score']:.2f}: {match['metadata']['Tafaseer1']}\")"
      ],
      "metadata": {
        "colab": {
          "base_uri": "https://localhost:8080/"
        },
        "id": "K6wCSid_ZGb4",
        "outputId": "4af38db9-f4cc-4750-eaf5-ed61086b62a3"
      },
      "execution_count": 24,
      "outputs": [
        {
          "output_type": "stream",
          "name": "stdout",
          "text": [
            "0.91: إِنَّمَا يَسْتَأْذِنُكَ ٱلَّذِينَ لاَ يُؤْمِنُونَ بِٱللَّهِ وَٱلْيَوْمِ ٱلآخِرِ وَٱرْتَابَتْ قُلُوبُهُمْ فَهُمْ فِي رَيْبِهِمْ يَتَرَدَّدُونَ\n",
            "0.91: Only those who do not believe in Allah and the Last Day and whose hearts are in doubt will seek leave (i.e., exemption from fighting) from you. So in their doubt they are bewildered, lost in disorientation.\n",
            "0.91: They alone ask leave of you to stay behind who do not believe in God and the Last Day and whose hearts are doubtful uncertain about religion so in their doubt they waver they are confused.\n",
            "0.91: وَمَاذَا عَلَيْهِمْ لَوْ آمَنُواْ بِٱللَّهِ وَٱلْيَوْمِ ٱلآخِرِ وَأَنْفَقُواْ مِمَّا رَزَقَهُمُ ٱللَّهُ وَكَانَ ٱللَّهُ بِهِم عَلِيماً\n",
            "0.91: And what loss would they have suffered, if they had believed in Allah and the Last Day, and spent (in His way) of what Allah had given them? And Allah is Well Aware of them (i.e., their state of affairs).\n",
            "0.91: And what burden is on them if they were to believe in God and the Last Day and expend of what God has provided them? that is to say what harm would this cause them? In other words there is no harm therein. Rather harm lies in what they follow the interrogative is meant as a disavowal; the law of law āmanū ‘if they were to believe’ conveys the sense of the verbal noun sc. mādhā ‘alayhim īmānuhum ‘what burden would their belief be upon them?’. God is ever Aware of them and will requite them for what they have done.\n",
            "0.91: الۤمۤر تِلْكَ آيَاتُ ٱلْكِتَابِ وَٱلَّذِيۤ أُنزِلَ إِلَيْكَ مِن رَّبِّكَ ٱلْحَقُّ وَلَـٰكِنَّ أَكْثَرَ ٱلنَّاسِ لاَ يُؤْمِنُونَ\n",
            "0.91: Alif, Lam, Mim, Ra. (Only Allah and the Messenger [blessings and peace be upon him] know the real meaning.) These are the Verses of the Book of Allah, and whatever has been revealed to you from your Lord is the truth, but most people do not believe.\n",
            "0.91: Alif lām mīm rā’ God knows best what He means by these letters. Those these verses are the verses of the Book the Qur’ān the genitive annexation carries the meaning of partitive min ‘from’ and that which has been revealed to you from your Lord namely the Qur’ān this preceding sentence constitutes the subject the predicate of which is the following is the Truth wherein is no doubt but most people that is the people of Mecca do not believe that it is from God exalted be He.\n",
            "0.91: وَأَمَّا ٱلَّذِينَ كَفَرُوۤاْ أَفَلَمْ تَكُنْ ءَايَٰتِى تُتْلَىٰ عَلَيْكُمْ فَٱسْتَكْبَرْتُمْ وَكُنتُمْ قَوْماً مُّجْرِمِينَ\n",
            "0.91: And those who disbelieved (it will be said to them:) ‘Were My Verses not recited to you? But you showed arrogance and you were the evildoers.’\n",
            "0.91: But as for those who disbelieved it will be said to them ‘Were not My signs was not the Qur’ān recited to you but you were disdainful you were arrogant and were a guilty a disbelieving lot?\n",
            "0.91: وَمِنَ ٱلنَّاسِ مَن يَقُولُ آمَنَّا بِٱللَّهِ وَبِٱلْيَوْمِ ٱلآخِرِ وَمَا هُم بِمُؤْمِنِينَ\n",
            "0.91: And amongst people there are (also) some who say: ‘We believe in Allah and the Last Day,’ whereas they are not (at all) believers.\n",
            "0.91: The following was revealed concerning the hypocrites and some people there are who say ‘We believe in God and the Last Day’ that is in the Day of Resurrection because it is the very last day; but they are not believers the plural import of man in man yaqūl ‘who says’ is taken into account here as expressed by a pronoun hum that expresses this plural meaning.\n",
            "0.91: كَذَلِكَ حَقَّتْ كَلِمَتُ رَبِّكَ عَلَى ٱلَّذِينَ فَسَقُوۤاْ أَنَّهُمْ لاَ يُؤْمِنُونَ\n",
            "0.91: That is how the judgment of your Lord is proved true against the defiant that they will not believe.\n",
            "0.91: Thus just as those are turned away from faith so the Word of your Lord is justified concerning those who are wicked those who disbelieve and this Word is either the verse Q. 3213‘Verily I shall fill Hell with jinn and mankind together’ or it is the following that they do not believe.\n",
            "0.91: وَمِنهُمْ مَّن يُؤْمِنُ بِهِ وَمِنْهُمْ مَّن لاَّ يُؤْمِنُ بِهِ وَرَبُّكَ أَعْلَمُ بِٱلْمُفْسِدِينَ\n",
            "0.91: Amongst them there is someone who will believe in it and some other who will not believe in it. And your Lord knows them full well who rouse mischief.\n",
            "0.91: And of them that is of the people of Mecca are some who believe in it God being aware of this in their case and some who would never believe therein. And your Lord knows very well the corrupters this is a threat for them.\n",
            "0.91: وَيَقُولُونَ آمَنَّا بِٱللَّهِ وَبِٱلرَّسُولِ وَأَطَعْنَا ثُمَّ يَتَوَلَّىٰ فَرِيقٌ مِّنْهُمْ مِّن بَعْدِ ذٰلِكَ وَمَآ أُوْلَـٰئِكَ بِٱلْمُؤْمِنِينَ\n",
            "0.91: And they say: ‘We have believed in Allah and the Messenger and we obey.’ Then, after (saying) this, a group of them turn away (from their affirmation). And (in fact) these people are not (at all) believers.\n",
            "0.91: And they the hypocrites say ‘We believe in we affirm the truth of God of His Oneness and the Messenger Muhammad (s) and we obey’ them in what rulings they God and Muhammad give. Then after that a party of them turn away they are averse to it and those those who are averse they are not believers as believers should be believers whose hearts agree with the words of their tongues.\n",
            "0.91: وَقِيلِهِ يٰرَبِّ إِنَّ هَـٰؤُلاَءِ قَوْمٌ لاَّ يُؤْمِنُونَ\n",
            "0.91: And by his (Esteemed Messenger’s) saying: ‘O Lord, surely, they are a people who (somehow) do not tend to believe.’\n",
            "0.91: And as for his saying that is the saying of the Prophet Muhammad (s) wa-qīlihi is accusative dependent because it is a verbal noun followed by an implicit verb in other words wa-qāla qīlihi ‘and he said his saying’ ‘O my Lord! These are indeed a people who have no faith’.\n",
            "0.91: وَإِن مِّنْ أَهْلِ ٱلْكِتَابِ إِلاَّ لَيُؤْمِنَنَّ بِهِ قَبْلَ مَوْتِهِ وَيَوْمَ ٱلْقِيَامَةِ يَكُونُ عَلَيْهِمْ شَهِيداً\n",
            "0.91: And, (shortly before the Last Hour at the time of the Messiah’s descent,) there will not be any (individual or sect) of the People of the Book, but will (rightly) believe in ‘Isa (Jesus) before his death; and ‘Isa (Jesus) will bear witness to them on the Day of Resurrection.\n",
            "0.91: And there is not one of the People of the Scripture but will assuredly believe in him in Jesus before his death that is before the death of one belonging to the People of the Scripture upon seeing the angels of death with his very eyes at which point his faith will not profit him; or it means before the death of Jesus after he descends at the approach of the Hour as is stated in hadīth; and on the Day of Resurrection he Jesus will be a witness against them of what they did when he was sent to them.\n"
          ]
        }
      ]
    }
  ],
  "metadata": {
    "colab": {
      "machine_shape": "hm",
      "provenance": []
    },
    "gpuClass": "standard",
    "kernelspec": {
      "display_name": "Python 3.10.5 64-bit ('3.10.5')",
      "language": "python",
      "name": "python3"
    },
    "language_info": {
      "name": "python",
      "version": "3.10.5"
    },
    "vscode": {
      "interpreter": {
        "hash": "3a0ab37a1f07e7d320af811f0819b193749e9675a96eea7a4830e92d810d141d"
      }
    }
  },
  "nbformat": 4,
  "nbformat_minor": 0
}