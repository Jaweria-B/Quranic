{
  "nbformat": 4,
  "nbformat_minor": 0,
  "metadata": {
    "colab": {
      "provenance": [],
      "gpuType": "T4"
    },
    "kernelspec": {
      "name": "python3",
      "display_name": "Python 3"
    },
    "language_info": {
      "name": "python"
    },
    "accelerator": "GPU"
  },
  "cells": [
    {
      "cell_type": "code",
      "execution_count": 1,
      "metadata": {
        "colab": {
          "base_uri": "https://localhost:8080/"
        },
        "id": "tk33Wlep8oZo",
        "outputId": "23ce920e-c24e-4b90-a1c9-ad15b0af3a3f"
      },
      "outputs": [
        {
          "output_type": "stream",
          "name": "stdout",
          "text": [
            "Requirement already satisfied: cohere in /usr/local/lib/python3.10/dist-packages (4.50)\n",
            "Requirement already satisfied: pinecone-client in /usr/local/lib/python3.10/dist-packages (3.1.0)\n",
            "Requirement already satisfied: aiohttp<4.0,>=3.0 in /usr/local/lib/python3.10/dist-packages (from cohere) (3.9.3)\n",
            "Requirement already satisfied: backoff<3.0,>=2.0 in /usr/local/lib/python3.10/dist-packages (from cohere) (2.2.1)\n",
            "Requirement already satisfied: fastavro<2.0,>=1.8 in /usr/local/lib/python3.10/dist-packages (from cohere) (1.9.4)\n",
            "Requirement already satisfied: importlib_metadata<7.0,>=6.0 in /usr/local/lib/python3.10/dist-packages (from cohere) (6.11.0)\n",
            "Requirement already satisfied: requests<3.0.0,>=2.25.0 in /usr/local/lib/python3.10/dist-packages (from cohere) (2.31.0)\n",
            "Requirement already satisfied: urllib3<3,>=1.26 in /usr/local/lib/python3.10/dist-packages (from cohere) (2.0.7)\n",
            "Requirement already satisfied: certifi>=2019.11.17 in /usr/local/lib/python3.10/dist-packages (from pinecone-client) (2024.2.2)\n",
            "Requirement already satisfied: tqdm>=4.64.1 in /usr/local/lib/python3.10/dist-packages (from pinecone-client) (4.66.2)\n",
            "Requirement already satisfied: typing-extensions>=3.7.4 in /usr/local/lib/python3.10/dist-packages (from pinecone-client) (4.9.0)\n",
            "Requirement already satisfied: aiosignal>=1.1.2 in /usr/local/lib/python3.10/dist-packages (from aiohttp<4.0,>=3.0->cohere) (1.3.1)\n",
            "Requirement already satisfied: attrs>=17.3.0 in /usr/local/lib/python3.10/dist-packages (from aiohttp<4.0,>=3.0->cohere) (23.2.0)\n",
            "Requirement already satisfied: frozenlist>=1.1.1 in /usr/local/lib/python3.10/dist-packages (from aiohttp<4.0,>=3.0->cohere) (1.4.1)\n",
            "Requirement already satisfied: multidict<7.0,>=4.5 in /usr/local/lib/python3.10/dist-packages (from aiohttp<4.0,>=3.0->cohere) (6.0.5)\n",
            "Requirement already satisfied: yarl<2.0,>=1.0 in /usr/local/lib/python3.10/dist-packages (from aiohttp<4.0,>=3.0->cohere) (1.9.4)\n",
            "Requirement already satisfied: async-timeout<5.0,>=4.0 in /usr/local/lib/python3.10/dist-packages (from aiohttp<4.0,>=3.0->cohere) (4.0.3)\n",
            "Requirement already satisfied: zipp>=0.5 in /usr/local/lib/python3.10/dist-packages (from importlib_metadata<7.0,>=6.0->cohere) (3.17.0)\n",
            "Requirement already satisfied: charset-normalizer<4,>=2 in /usr/local/lib/python3.10/dist-packages (from requests<3.0.0,>=2.25.0->cohere) (3.3.2)\n",
            "Requirement already satisfied: idna<4,>=2.5 in /usr/local/lib/python3.10/dist-packages (from requests<3.0.0,>=2.25.0->cohere) (3.6)\n"
          ]
        }
      ],
      "source": [
        "! pip install cohere pinecone-client"
      ]
    },
    {
      "cell_type": "code",
      "source": [
        "cohere_api_key = ''\n",
        "pinecone_api_key = ''"
      ],
      "metadata": {
        "id": "bHXHczM49Vwo"
      },
      "execution_count": 2,
      "outputs": []
    },
    {
      "cell_type": "code",
      "source": [
        "import cohere\n",
        "co = cohere.Client(cohere_api_key)"
      ],
      "metadata": {
        "id": "D3JKaMHH_C9a"
      },
      "execution_count": 3,
      "outputs": []
    },
    {
      "cell_type": "code",
      "source": [
        "from pinecone import Pinecone\n",
        "\n",
        "pc = Pinecone(pinecone_api_key) # add your pinecone API key here\n",
        "\n",
        "index_name = 'quranic'\n",
        "\n",
        "# if the index does not exist, we create it\n",
        "if index_name not in pc.list_indexes().names():\n",
        "    pc.create_index(\n",
        "        index_name,\n",
        "        dimension=shape[1],\n",
        "        metric='cosine'\n",
        "    )\n",
        "\n",
        "# connect to index\n",
        "index = pc.Index(index_name)"
      ],
      "metadata": {
        "id": "N2W6eePW-uko"
      },
      "execution_count": 4,
      "outputs": []
    },
    {
      "cell_type": "code",
      "source": [
        "limit = 1600\n",
        "\n",
        "def retrieve(query):\n",
        "    xq = co.embed(\n",
        "        texts=[query],\n",
        "        model='multilingual-22-12',\n",
        "        truncate='NONE'\n",
        "    ).embeddings\n",
        "    # search pinecone index for context passage with the answer\n",
        "    xc = index.query(vector=xq, top_k=3, include_metadata=True)\n",
        "    contexts = [\n",
        "        str(x['metadata']['Surah']) for x in xc['matches']\n",
        "    ]\n",
        "    contexts += [\n",
        "        str(x['metadata']['Ayat']) for x in xc['matches']\n",
        "    ]\n",
        "    contexts += [\n",
        "        str(x['metadata']['Arabic']) for x in xc['matches']\n",
        "    ]\n",
        "    contexts += [\n",
        "        str(x['metadata']['Tafaseer1']) for x in xc['matches']\n",
        "    ]\n",
        "    # build our prompt with the retrieved contexts included\n",
        "    prompt_start = (\n",
        "        \"Answer the Query based on the contexts, if it's not in the contexts say 'I don't know the answer'. \\n\\n\"+\n",
        "        \"Context:\\n\"\n",
        "    )\n",
        "    prompt_end = (\n",
        "        f\"\\n\\nQuery: {query}\\nAnswer in the language of Query, if Query is in English Answer in English.\"\n",
        "    )\n",
        "    # append contexts until hitting limit\n",
        "    for i in range(1, len(contexts)):\n",
        "        if len(\"\\n\\n---\\n\\n\".join(contexts[:i])) >= limit:\n",
        "            prompt = (\n",
        "                prompt_start +\n",
        "                \"\\n\\n---\\n\\n\".join(contexts[:i-1]) +\n",
        "                prompt_end\n",
        "            )\n",
        "            break\n",
        "        elif i == len(contexts)-1:\n",
        "            prompt = (\n",
        "                prompt_start +\n",
        "                \"\\n\\n---\\n\\n\".join(contexts) +\n",
        "                prompt_end\n",
        "            )\n",
        "    return prompt"
      ],
      "metadata": {
        "id": "lgY_7txm_QZM"
      },
      "execution_count": 5,
      "outputs": []
    },
    {
      "cell_type": "code",
      "source": [
        "query = \"What does quran say about believers?\"\n",
        "query_with_contexts = retrieve(query)\n",
        "query_with_contexts"
      ],
      "metadata": {
        "colab": {
          "base_uri": "https://localhost:8080/",
          "height": 108
        },
        "id": "iGvPEx0fBM2F",
        "outputId": "7b642816-1a6d-448d-ab89-6d0658d88a1e"
      },
      "execution_count": 6,
      "outputs": [
        {
          "output_type": "execute_result",
          "data": {
            "text/plain": [
              "\"Answer the Query based on the contexts, if it's not in the contexts say 'I don't know the answer'. \\n\\nContext:\\n8.0\\n\\n---\\n\\n2.0\\n\\n---\\n\\n24.0\\n\\n---\\n\\n2.0\\n\\n---\\n\\n8.0\\n\\n---\\n\\n47.0\\n\\n---\\n\\nإِنَّمَا ٱلْمُؤْمِنُونَ ٱلَّذِينَ إِذَا ذُكِرَ ٱللَّهُ وَجِلَتْ قُلُوبُهُمْ وَإِذَا تُلِيَتْ عَلَيْهِمْ ءَايَٰتُهُ زَادَتْهُمْ إِيمَٰناً وَعَلَىٰ رَبِّهِمْ يَتَوَكَّلُونَ\\n\\n---\\n\\nوَمِنَ ٱلنَّاسِ مَن يَقُولُ آمَنَّا بِٱللَّهِ وَبِٱلْيَوْمِ ٱلآخِرِ وَمَا هُم بِمُؤْمِنِينَ\\n\\n---\\n\\nوَيَقُولُونَ آمَنَّا بِٱللَّهِ وَبِٱلرَّسُولِ وَأَطَعْنَا ثُمَّ يَتَوَلَّىٰ فَرِيقٌ مِّنْهُمْ مِّن بَعْدِ ذٰلِكَ وَمَآ أُوْلَـٰئِكَ بِٱلْمُؤْمِنِينَ\\n\\n---\\n\\nThe believers those whose faith is complete are only those who when God is mentioned that is when His threat of punishment is mentioned their hearts tremble fear and when His verses are recited to them they increase their faith their acceptance of the truth and who rely upon their Lord who put their trust in Him alone and not in any other.\\n\\n---\\n\\nThe following was revealed concerning the hypocrites and some people there are who say ‘We believe in God and the Last Day’ that is in the Day of Resurrection because it is the very last day; but they are not believers the plural import of man in man yaqūl ‘who says’ is taken into account here as expressed by a pronoun hum that expresses this plural meaning.\\n\\n---\\n\\nAnd they the hypocrites say ‘We believe in we affirm the truth of God of His Oneness and the Messenger Muhammad (s) and we obey’ them in what rulings they God and Muhammad give. Then after that a party of them turn away they are averse to it and those those who are averse they are not believers as believers should be believers whose hearts agree with the words of their tongues.\\n\\nQuery: What does quran say about believers?\\nAnswer in the language of Query, if Query is in English Answer in English.\""
            ],
            "application/vnd.google.colaboratory.intrinsic+json": {
              "type": "string"
            }
          },
          "metadata": {},
          "execution_count": 6
        }
      ]
    },
    {
      "cell_type": "code",
      "source": [
        "def complete(prompt):\n",
        "  response = co.generate(\n",
        "                          model='c4ai-aya',\n",
        "                          prompt=prompt,\n",
        "                          max_tokens=300,\n",
        "                          temperature=0.4,\n",
        "                          k=0,\n",
        "                          stop_sequences=[],\n",
        "                          return_likelihoods='NONE'\n",
        "                        )\n",
        "  return response.generations[0].text"
      ],
      "metadata": {
        "id": "06EspdA9aN8G"
      },
      "execution_count": 8,
      "outputs": []
    },
    {
      "cell_type": "code",
      "source": [
        "complete(query_with_contexts)"
      ],
      "metadata": {
        "colab": {
          "base_uri": "https://localhost:8080/",
          "height": 108
        },
        "id": "o8UJ7JaofPk7",
        "outputId": "832f0ba1-8542-41eb-c06e-d88300dab0ee"
      },
      "execution_count": 9,
      "outputs": [
        {
          "output_type": "execute_result",
          "data": {
            "text/plain": [
              "'The Quran says that believers are those who have faith in God and the Last Day. They are the ones who, when God is mentioned, their hearts tremble with fear and when His verses are recited to them, they increase their faith. They are the ones who put their trust in their Lord and not in any other.\\n\\nThe Quran also says that there are some people who say \"We believe in God and the Last Day\" but they are not believers. They are the hypocrites who say they believe in God and the Last Day but they do not believe in their hearts.\\n\\nThe Quran also says that believers are those who believe in God and the Last Day, and who obey God and the Messenger. They are the ones who, when God and His Messenger command them to do something, they do it. They are the ones who put their trust in God and the Messenger, and not in any other.'"
            ],
            "application/vnd.google.colaboratory.intrinsic+json": {
              "type": "string"
            }
          },
          "metadata": {},
          "execution_count": 9
        }
      ]
    }
  ]
}